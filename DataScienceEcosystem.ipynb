{
 "cells": [
  {
   "cell_type": "markdown",
   "id": "b3b513e9-359d-4774-972f-7da22a548e8b",
   "metadata": {},
   "source": [
    "# Data Science Tools and Ecosystem #"
   ]
  },
  {
   "cell_type": "markdown",
   "id": "52ca8ec9-f115-4aec-8e8a-bc7e98033012",
   "metadata": {},
   "source": [
    "In this notebook, Data Science Tools and Ecosystem are summarized."
   ]
  },
  {
   "cell_type": "markdown",
   "id": "0a9f8d3d-c5aa-4733-b42d-3e147b8bdda3",
   "metadata": {},
   "source": [
    "**Objectives:**\n",
    "- Languages used by Data Scientists\n",
    "- Libraries used by Data Scientists\n",
    "- JupyterLab utilization\n",
    "- Markdown utilization"
   ]
  },
  {
   "cell_type": "markdown",
   "id": "c81f274f-85ff-4db6-b7c1-befced7dc0cb",
   "metadata": {},
   "source": [
    "Some of the popular languages that Data Scientists use are:"
   ]
  },
  {
   "cell_type": "markdown",
   "id": "e61a3ab6-12ab-4323-a8a8-6d0b084ba4f5",
   "metadata": {},
   "source": [
    "1. Python\n",
    "1. R\n",
    "1. SQL"
   ]
  },
  {
   "cell_type": "markdown",
   "id": "dc263ffd-12dd-40b0-a453-ca7f68c7d9f3",
   "metadata": {},
   "source": [
    "Some of the commonly used libraries used by Data Scientists include:"
   ]
  },
  {
   "cell_type": "markdown",
   "id": "6cad0875-75cc-4e81-8d58-a121adfa52a9",
   "metadata": {},
   "source": [
    "1. Pandas\n",
    "2. NumPy\n",
    "3. ggplot2"
   ]
  },
  {
   "cell_type": "markdown",
   "id": "65065a10-7f4f-4c10-9e72-6c50875a0d61",
   "metadata": {},
   "source": [
    "| Data Science Tools |\n",
    "| ------------------ |\n",
    "| Watson Studio |\n",
    "| R Studio |\n",
    "| JupyterLab |"
   ]
  },
  {
   "cell_type": "markdown",
   "id": "eafee9ad-0a05-4132-bc5c-0612180fe881",
   "metadata": {},
   "source": [
    "### Below are a few examples of evaluating arithmetic expressions in Python ###"
   ]
  },
  {
   "cell_type": "code",
   "execution_count": 2,
   "id": "61ef4288-2956-4607-92ce-cd4aa9ae291e",
   "metadata": {},
   "outputs": [],
   "source": [
    "# This a simple arithmetic expression to mutiply then add integers"
   ]
  },
  {
   "cell_type": "code",
   "execution_count": 3,
   "id": "8dda5061-9d3f-489c-a077-c011f980e506",
   "metadata": {},
   "outputs": [
    {
     "data": {
      "text/plain": [
       "17"
      ]
     },
     "execution_count": 3,
     "metadata": {},
     "output_type": "execute_result"
    }
   ],
   "source": [
    "(3*4)+5"
   ]
  },
  {
   "cell_type": "code",
   "execution_count": 4,
   "id": "fafee52f-0a6c-4b2b-8ad5-a43e6980e0a1",
   "metadata": {},
   "outputs": [],
   "source": [
    "# This will convert 200 minutes to hours by diving by 60"
   ]
  },
  {
   "cell_type": "code",
   "execution_count": 5,
   "id": "ab0c486b-17ed-48d0-8140-d29af8bbdf60",
   "metadata": {},
   "outputs": [
    {
     "data": {
      "text/plain": [
       "3.3333333333333335"
      ]
     },
     "execution_count": 5,
     "metadata": {},
     "output_type": "execute_result"
    }
   ],
   "source": [
    "200/60"
   ]
  },
  {
   "cell_type": "markdown",
   "id": "69e443b0-4d57-4d64-8400-b1579bc6ccc3",
   "metadata": {},
   "source": [
    "## Author ##"
   ]
  },
  {
   "cell_type": "markdown",
   "id": "256d27fe-104f-4f45-aa0c-ad749984c6b3",
   "metadata": {},
   "source": [
    "Philippe Broussard"
   ]
  },
  {
   "cell_type": "code",
   "execution_count": null,
   "id": "8c781b20-6595-4b55-bb78-6fd415aa1a92",
   "metadata": {},
   "outputs": [],
   "source": []
  }
 ],
 "metadata": {
  "kernelspec": {
   "display_name": "Python 3 (ipykernel)",
   "language": "python",
   "name": "python3"
  },
  "language_info": {
   "codemirror_mode": {
    "name": "ipython",
    "version": 3
   },
   "file_extension": ".py",
   "mimetype": "text/x-python",
   "name": "python",
   "nbconvert_exporter": "python",
   "pygments_lexer": "ipython3",
   "version": "3.12.8"
  }
 },
 "nbformat": 4,
 "nbformat_minor": 5
}
